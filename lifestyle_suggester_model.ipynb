{
 "cells": [
  {
   "cell_type": "code",
   "execution_count": 195,
   "id": "abaebfc7-5a56-4767-bc1d-04f67ae036e9",
   "metadata": {},
   "outputs": [
    {
     "name": "stdout",
     "output_type": "stream",
     "text": [
      "Requirement already satisfied: scikit-learn==1.6.0 in /opt/anaconda3/lib/python3.13/site-packages (1.6.0)\n",
      "Requirement already satisfied: numpy>=1.19.5 in /opt/anaconda3/lib/python3.13/site-packages (from scikit-learn==1.6.0) (2.1.3)\n",
      "Requirement already satisfied: scipy>=1.6.0 in /opt/anaconda3/lib/python3.13/site-packages (from scikit-learn==1.6.0) (1.15.3)\n",
      "Requirement already satisfied: joblib>=1.2.0 in /opt/anaconda3/lib/python3.13/site-packages (from scikit-learn==1.6.0) (1.4.2)\n",
      "Requirement already satisfied: threadpoolctl>=3.1.0 in /opt/anaconda3/lib/python3.13/site-packages (from scikit-learn==1.6.0) (3.5.0)\n"
     ]
    }
   ],
   "source": [
    "!pip install scikit-learn==1.6.0"
   ]
  },
  {
   "cell_type": "code",
   "execution_count": 196,
   "id": "825deefd-5fe3-4362-8425-16e170a77c66",
   "metadata": {},
   "outputs": [],
   "source": [
    "import numpy as np\n",
    "import pandas as pd\n",
    "import matplotlib.pyplot as plt\n",
    "from sklearn.model_selection import train_test_split\n",
    "from sklearn.preprocessing import LabelEncoder, StandardScaler\n",
    "from sklearn.ensemble import RandomForestClassifier\n",
    "from sklearn.metrics import classification_report, accuracy_score, confusion_matrix"
   ]
  },
  {
   "cell_type": "code",
   "execution_count": 197,
   "id": "ff7ae111-8eed-4787-ad7b-4ab59cbe4ec0",
   "metadata": {},
   "outputs": [],
   "source": [
    "df = pd.read_csv(\"/Users/anusrutamohanty/Desktop/Sleep_health_and_lifestyle_dataset.csv\")"
   ]
  },
  {
   "cell_type": "code",
   "execution_count": 198,
   "id": "2d603ef3-058b-486c-bf8d-be2cfa0a7c1b",
   "metadata": {},
   "outputs": [
    {
     "name": "stdout",
     "output_type": "stream",
     "text": [
      "<class 'pandas.core.frame.DataFrame'>\n",
      "RangeIndex: 374 entries, 0 to 373\n",
      "Data columns (total 13 columns):\n",
      " #   Column                   Non-Null Count  Dtype  \n",
      "---  ------                   --------------  -----  \n",
      " 0   Person ID                374 non-null    int64  \n",
      " 1   Gender                   374 non-null    object \n",
      " 2   Age                      374 non-null    int64  \n",
      " 3   Occupation               374 non-null    object \n",
      " 4   Sleep Duration           374 non-null    float64\n",
      " 5   Quality of Sleep         374 non-null    int64  \n",
      " 6   Physical Activity Level  374 non-null    int64  \n",
      " 7   Stress Level             374 non-null    int64  \n",
      " 8   BMI Category             374 non-null    object \n",
      " 9   Blood Pressure           374 non-null    object \n",
      " 10  Heart Rate               374 non-null    int64  \n",
      " 11  Daily Steps              374 non-null    int64  \n",
      " 12  Sleep Disorder           155 non-null    object \n",
      "dtypes: float64(1), int64(7), object(5)\n",
      "memory usage: 38.1+ KB\n"
     ]
    }
   ],
   "source": [
    "df.info()"
   ]
  },
  {
   "cell_type": "code",
   "execution_count": 199,
   "id": "bcc5967c-bb87-4c02-bc52-a6e42c091d7d",
   "metadata": {},
   "outputs": [
    {
     "name": "stdout",
     "output_type": "stream",
     "text": [
      "['Male' 'Female']\n"
     ]
    }
   ],
   "source": [
    "unique_values = df['Gender'].unique()\n",
    "print(unique_values)"
   ]
  },
  {
   "cell_type": "code",
   "execution_count": 200,
   "id": "4414a816-9b2c-4263-8fc6-e2d9bba211ef",
   "metadata": {},
   "outputs": [
    {
     "name": "stdout",
     "output_type": "stream",
     "text": [
      "['Software Engineer' 'Doctor' 'Sales Representative' 'Teacher' 'Nurse'\n",
      " 'Engineer' 'Accountant' 'Scientist' 'Lawyer' 'Salesperson' 'Manager']\n"
     ]
    }
   ],
   "source": [
    "unique_values = df['Occupation'].unique()\n",
    "print(unique_values)"
   ]
  },
  {
   "cell_type": "code",
   "execution_count": 201,
   "id": "024c5b6d-3380-4691-97bd-3943be42d297",
   "metadata": {},
   "outputs": [
    {
     "name": "stdout",
     "output_type": "stream",
     "text": [
      "['Overweight' 'Normal' 'Obese' 'Normal Weight']\n"
     ]
    }
   ],
   "source": [
    "unique_values = df['BMI Category'].unique()\n",
    "print(unique_values)"
   ]
  },
  {
   "cell_type": "code",
   "execution_count": 202,
   "id": "0dadebd7-e104-44fc-8a8b-6329386cc567",
   "metadata": {},
   "outputs": [
    {
     "name": "stdout",
     "output_type": "stream",
     "text": [
      "[nan 'Sleep Apnea' 'Insomnia']\n"
     ]
    }
   ],
   "source": [
    "unique_values = df['Sleep Disorder'].unique()\n",
    "print(unique_values)"
   ]
  },
  {
   "cell_type": "code",
   "execution_count": 203,
   "id": "bce97c39-98bc-4c7d-bee1-4fa708fab67c",
   "metadata": {},
   "outputs": [],
   "source": [
    "#bp is in form systolic/dystolic\n",
    "\n",
    "if 'Blood Pressure' in df.columns:\n",
    "    try:\n",
    "        bp_split = df['Blood Pressure'].astype(str).str.split('/', expand=True)\n",
    "        if bp_split.shape[1] == 2:\n",
    "            df['BP_Systolic'] = pd.to_numeric(bp_split[0], errors='coerce')\n",
    "            df['BP_Diastolic'] = pd.to_numeric(bp_split[1], errors='coerce')\n",
    "            df.drop(columns=['Blood Pressure'], inplace=True)\n",
    "    except Exception as e:\n",
    "        print('Could not parse Blood Pressure column:', e)"
   ]
  },
  {
   "cell_type": "code",
   "execution_count": 204,
   "id": "cf0b9763-95d7-4552-86ac-dee5579217b8",
   "metadata": {},
   "outputs": [],
   "source": [
    "df['Healthy Lifestyle'] = np.where(\n",
    "(df['Sleep Duration'] >= 6.5) &\n",
    "(df['Quality of Sleep'] >= 6) &\n",
    "(df['Stress Level'] <= 5) &\n",
    "(df['Physical Activity Level'] >= 50) &\n",
    "(df['BMI Category'] == 'Normal'),\n",
    "1, 0\n",
    ")"
   ]
  },
  {
   "cell_type": "code",
   "execution_count": 205,
   "id": "b49eeb89-7a35-4283-ba7c-f2fd097700ee",
   "metadata": {},
   "outputs": [
    {
     "name": "stdout",
     "output_type": "stream",
     "text": [
      "[0 1]\n"
     ]
    }
   ],
   "source": [
    "unique_values = df['Healthy Lifestyle'].unique()\n",
    "print(unique_values)"
   ]
  },
  {
   "cell_type": "code",
   "execution_count": 206,
   "id": "bd58b760-b69a-49f8-a8ff-bbe6617a994b",
   "metadata": {},
   "outputs": [
    {
     "name": "stdout",
     "output_type": "stream",
     "text": [
      "Healthy Lifestyle distribution:\n",
      "Healthy Lifestyle\n",
      "0    278\n",
      "1     96\n",
      "Name: count, dtype: int64\n"
     ]
    }
   ],
   "source": [
    "print('Healthy Lifestyle distribution:')\n",
    "print(df['Healthy Lifestyle'].value_counts(normalize=False))"
   ]
  },
  {
   "cell_type": "code",
   "execution_count": 207,
   "id": "e1609692-25c0-4689-a79b-f4c41b12c54e",
   "metadata": {},
   "outputs": [],
   "source": [
    "label_encoders = {}\n",
    "cat_cols = [c for c in ['Gender', 'Occupation', 'BMI Category', 'Sleep Disorder'] if c in df.columns]\n",
    "for col in cat_cols:\n",
    "    le = LabelEncoder()  # This line and the following lines need to be indented\n",
    "    df[col] = df[col].fillna('Unknown')\n",
    "    df[col] = le.fit_transform(df[col].astype(str))\n",
    "    label_encoders[col] = le"
   ]
  },
  {
   "cell_type": "code",
   "execution_count": 208,
   "id": "4f537808-578b-40dc-8287-b87614bcfae2",
   "metadata": {},
   "outputs": [],
   "source": [
    "df.drop('Person ID', axis=1, inplace=True)\n",
    "df.drop('Quality of Sleep', axis=1, inplace=True)\n",
    "df.drop('Stress Level', axis=1, inplace=True)"
   ]
  },
  {
   "cell_type": "code",
   "execution_count": 209,
   "id": "630c710f-8c60-4220-86fe-3cc49b0f6397",
   "metadata": {},
   "outputs": [
    {
     "name": "stdout",
     "output_type": "stream",
     "text": [
      "Accuracy on test set: 1.0000\n",
      "\n",
      "Classification report:\n",
      "\n",
      "              precision    recall  f1-score   support\n",
      "\n",
      "           0       1.00      1.00      1.00       139\n",
      "           1       1.00      1.00      1.00        48\n",
      "\n",
      "    accuracy                           1.00       187\n",
      "   macro avg       1.00      1.00      1.00       187\n",
      "weighted avg       1.00      1.00      1.00       187\n",
      "\n",
      "Confusion matrix:\n",
      " [[139   0]\n",
      " [  0  48]]\n"
     ]
    }
   ],
   "source": [
    "x = df[['Age','Occupation','Sleep Duration','BMI Category','Sleep Disorder']]\n",
    "y = df['Healthy Lifestyle']\n",
    "\n",
    "scaler = StandardScaler()\n",
    "x_scaled = scaler.fit_transform(x)\n",
    "\n",
    "x_train, x_test, y_train, y_test = train_test_split(x_scaled, y, test_size=0.5, random_state=42, stratify=y)\n",
    "\n",
    "model = RandomForestClassifier(n_estimators=100, random_state=42)\n",
    "model.fit(x_train, y_train)\n",
    "\n",
    "y_pred = model.predict(x_test)\n",
    "acc = accuracy_score(y_test, y_pred)\n",
    "print('Accuracy on test set: {:.4f}'.format(acc))\n",
    "print('\\nClassification report:\\n')\n",
    "print(classification_report(y_test, y_pred))\n",
    "\n",
    "cm = confusion_matrix(y_test, y_pred)\n",
    "print('Confusion matrix:\\n', cm)"
   ]
  },
  {
   "cell_type": "code",
   "execution_count": 210,
   "id": "2dca77b5-31a2-4ee2-8009-9c48ebdc529e",
   "metadata": {},
   "outputs": [
    {
     "data": {
      "text/html": [
       "<div>\n",
       "<style scoped>\n",
       "    .dataframe tbody tr th:only-of-type {\n",
       "        vertical-align: middle;\n",
       "    }\n",
       "\n",
       "    .dataframe tbody tr th {\n",
       "        vertical-align: top;\n",
       "    }\n",
       "\n",
       "    .dataframe thead th {\n",
       "        text-align: right;\n",
       "    }\n",
       "</style>\n",
       "<table border=\"1\" class=\"dataframe\">\n",
       "  <thead>\n",
       "    <tr style=\"text-align: right;\">\n",
       "      <th></th>\n",
       "      <th>Gender</th>\n",
       "      <th>Age</th>\n",
       "      <th>Occupation</th>\n",
       "      <th>Sleep Duration</th>\n",
       "      <th>Physical Activity Level</th>\n",
       "      <th>BMI Category</th>\n",
       "      <th>Heart Rate</th>\n",
       "      <th>Daily Steps</th>\n",
       "      <th>Sleep Disorder</th>\n",
       "      <th>BP_Systolic</th>\n",
       "      <th>BP_Diastolic</th>\n",
       "      <th>Healthy Lifestyle</th>\n",
       "    </tr>\n",
       "  </thead>\n",
       "  <tbody>\n",
       "    <tr>\n",
       "      <th>0</th>\n",
       "      <td>1</td>\n",
       "      <td>27</td>\n",
       "      <td>9</td>\n",
       "      <td>6.1</td>\n",
       "      <td>42</td>\n",
       "      <td>3</td>\n",
       "      <td>77</td>\n",
       "      <td>4200</td>\n",
       "      <td>2</td>\n",
       "      <td>126</td>\n",
       "      <td>83</td>\n",
       "      <td>0</td>\n",
       "    </tr>\n",
       "    <tr>\n",
       "      <th>1</th>\n",
       "      <td>1</td>\n",
       "      <td>28</td>\n",
       "      <td>1</td>\n",
       "      <td>6.2</td>\n",
       "      <td>60</td>\n",
       "      <td>0</td>\n",
       "      <td>75</td>\n",
       "      <td>10000</td>\n",
       "      <td>2</td>\n",
       "      <td>125</td>\n",
       "      <td>80</td>\n",
       "      <td>0</td>\n",
       "    </tr>\n",
       "    <tr>\n",
       "      <th>2</th>\n",
       "      <td>1</td>\n",
       "      <td>28</td>\n",
       "      <td>1</td>\n",
       "      <td>6.2</td>\n",
       "      <td>60</td>\n",
       "      <td>0</td>\n",
       "      <td>75</td>\n",
       "      <td>10000</td>\n",
       "      <td>2</td>\n",
       "      <td>125</td>\n",
       "      <td>80</td>\n",
       "      <td>0</td>\n",
       "    </tr>\n",
       "    <tr>\n",
       "      <th>3</th>\n",
       "      <td>1</td>\n",
       "      <td>28</td>\n",
       "      <td>6</td>\n",
       "      <td>5.9</td>\n",
       "      <td>30</td>\n",
       "      <td>2</td>\n",
       "      <td>85</td>\n",
       "      <td>3000</td>\n",
       "      <td>1</td>\n",
       "      <td>140</td>\n",
       "      <td>90</td>\n",
       "      <td>0</td>\n",
       "    </tr>\n",
       "    <tr>\n",
       "      <th>4</th>\n",
       "      <td>1</td>\n",
       "      <td>28</td>\n",
       "      <td>6</td>\n",
       "      <td>5.9</td>\n",
       "      <td>30</td>\n",
       "      <td>2</td>\n",
       "      <td>85</td>\n",
       "      <td>3000</td>\n",
       "      <td>1</td>\n",
       "      <td>140</td>\n",
       "      <td>90</td>\n",
       "      <td>0</td>\n",
       "    </tr>\n",
       "    <tr>\n",
       "      <th>5</th>\n",
       "      <td>1</td>\n",
       "      <td>28</td>\n",
       "      <td>9</td>\n",
       "      <td>5.9</td>\n",
       "      <td>30</td>\n",
       "      <td>2</td>\n",
       "      <td>85</td>\n",
       "      <td>3000</td>\n",
       "      <td>0</td>\n",
       "      <td>140</td>\n",
       "      <td>90</td>\n",
       "      <td>0</td>\n",
       "    </tr>\n",
       "    <tr>\n",
       "      <th>6</th>\n",
       "      <td>1</td>\n",
       "      <td>29</td>\n",
       "      <td>10</td>\n",
       "      <td>6.3</td>\n",
       "      <td>40</td>\n",
       "      <td>2</td>\n",
       "      <td>82</td>\n",
       "      <td>3500</td>\n",
       "      <td>0</td>\n",
       "      <td>140</td>\n",
       "      <td>90</td>\n",
       "      <td>0</td>\n",
       "    </tr>\n",
       "    <tr>\n",
       "      <th>7</th>\n",
       "      <td>1</td>\n",
       "      <td>29</td>\n",
       "      <td>1</td>\n",
       "      <td>7.8</td>\n",
       "      <td>75</td>\n",
       "      <td>0</td>\n",
       "      <td>70</td>\n",
       "      <td>8000</td>\n",
       "      <td>2</td>\n",
       "      <td>120</td>\n",
       "      <td>80</td>\n",
       "      <td>0</td>\n",
       "    </tr>\n",
       "    <tr>\n",
       "      <th>8</th>\n",
       "      <td>1</td>\n",
       "      <td>29</td>\n",
       "      <td>1</td>\n",
       "      <td>7.8</td>\n",
       "      <td>75</td>\n",
       "      <td>0</td>\n",
       "      <td>70</td>\n",
       "      <td>8000</td>\n",
       "      <td>2</td>\n",
       "      <td>120</td>\n",
       "      <td>80</td>\n",
       "      <td>0</td>\n",
       "    </tr>\n",
       "    <tr>\n",
       "      <th>9</th>\n",
       "      <td>1</td>\n",
       "      <td>29</td>\n",
       "      <td>1</td>\n",
       "      <td>7.8</td>\n",
       "      <td>75</td>\n",
       "      <td>0</td>\n",
       "      <td>70</td>\n",
       "      <td>8000</td>\n",
       "      <td>2</td>\n",
       "      <td>120</td>\n",
       "      <td>80</td>\n",
       "      <td>0</td>\n",
       "    </tr>\n",
       "    <tr>\n",
       "      <th>10</th>\n",
       "      <td>1</td>\n",
       "      <td>29</td>\n",
       "      <td>1</td>\n",
       "      <td>6.1</td>\n",
       "      <td>30</td>\n",
       "      <td>0</td>\n",
       "      <td>70</td>\n",
       "      <td>8000</td>\n",
       "      <td>2</td>\n",
       "      <td>120</td>\n",
       "      <td>80</td>\n",
       "      <td>0</td>\n",
       "    </tr>\n",
       "    <tr>\n",
       "      <th>11</th>\n",
       "      <td>1</td>\n",
       "      <td>29</td>\n",
       "      <td>1</td>\n",
       "      <td>7.8</td>\n",
       "      <td>75</td>\n",
       "      <td>0</td>\n",
       "      <td>70</td>\n",
       "      <td>8000</td>\n",
       "      <td>2</td>\n",
       "      <td>120</td>\n",
       "      <td>80</td>\n",
       "      <td>0</td>\n",
       "    </tr>\n",
       "    <tr>\n",
       "      <th>12</th>\n",
       "      <td>1</td>\n",
       "      <td>29</td>\n",
       "      <td>1</td>\n",
       "      <td>6.1</td>\n",
       "      <td>30</td>\n",
       "      <td>0</td>\n",
       "      <td>70</td>\n",
       "      <td>8000</td>\n",
       "      <td>2</td>\n",
       "      <td>120</td>\n",
       "      <td>80</td>\n",
       "      <td>0</td>\n",
       "    </tr>\n",
       "    <tr>\n",
       "      <th>13</th>\n",
       "      <td>1</td>\n",
       "      <td>29</td>\n",
       "      <td>1</td>\n",
       "      <td>6.0</td>\n",
       "      <td>30</td>\n",
       "      <td>0</td>\n",
       "      <td>70</td>\n",
       "      <td>8000</td>\n",
       "      <td>2</td>\n",
       "      <td>120</td>\n",
       "      <td>80</td>\n",
       "      <td>0</td>\n",
       "    </tr>\n",
       "    <tr>\n",
       "      <th>14</th>\n",
       "      <td>1</td>\n",
       "      <td>29</td>\n",
       "      <td>1</td>\n",
       "      <td>6.0</td>\n",
       "      <td>30</td>\n",
       "      <td>0</td>\n",
       "      <td>70</td>\n",
       "      <td>8000</td>\n",
       "      <td>2</td>\n",
       "      <td>120</td>\n",
       "      <td>80</td>\n",
       "      <td>0</td>\n",
       "    </tr>\n",
       "    <tr>\n",
       "      <th>15</th>\n",
       "      <td>1</td>\n",
       "      <td>29</td>\n",
       "      <td>1</td>\n",
       "      <td>6.0</td>\n",
       "      <td>30</td>\n",
       "      <td>0</td>\n",
       "      <td>70</td>\n",
       "      <td>8000</td>\n",
       "      <td>2</td>\n",
       "      <td>120</td>\n",
       "      <td>80</td>\n",
       "      <td>0</td>\n",
       "    </tr>\n",
       "    <tr>\n",
       "      <th>16</th>\n",
       "      <td>0</td>\n",
       "      <td>29</td>\n",
       "      <td>5</td>\n",
       "      <td>6.5</td>\n",
       "      <td>40</td>\n",
       "      <td>1</td>\n",
       "      <td>80</td>\n",
       "      <td>4000</td>\n",
       "      <td>1</td>\n",
       "      <td>132</td>\n",
       "      <td>87</td>\n",
       "      <td>0</td>\n",
       "    </tr>\n",
       "    <tr>\n",
       "      <th>17</th>\n",
       "      <td>1</td>\n",
       "      <td>29</td>\n",
       "      <td>1</td>\n",
       "      <td>6.0</td>\n",
       "      <td>30</td>\n",
       "      <td>0</td>\n",
       "      <td>70</td>\n",
       "      <td>8000</td>\n",
       "      <td>1</td>\n",
       "      <td>120</td>\n",
       "      <td>80</td>\n",
       "      <td>0</td>\n",
       "    </tr>\n",
       "    <tr>\n",
       "      <th>18</th>\n",
       "      <td>0</td>\n",
       "      <td>29</td>\n",
       "      <td>5</td>\n",
       "      <td>6.5</td>\n",
       "      <td>40</td>\n",
       "      <td>1</td>\n",
       "      <td>80</td>\n",
       "      <td>4000</td>\n",
       "      <td>0</td>\n",
       "      <td>132</td>\n",
       "      <td>87</td>\n",
       "      <td>0</td>\n",
       "    </tr>\n",
       "    <tr>\n",
       "      <th>19</th>\n",
       "      <td>1</td>\n",
       "      <td>30</td>\n",
       "      <td>1</td>\n",
       "      <td>7.6</td>\n",
       "      <td>75</td>\n",
       "      <td>0</td>\n",
       "      <td>70</td>\n",
       "      <td>8000</td>\n",
       "      <td>2</td>\n",
       "      <td>120</td>\n",
       "      <td>80</td>\n",
       "      <td>0</td>\n",
       "    </tr>\n",
       "  </tbody>\n",
       "</table>\n",
       "</div>"
      ],
      "text/plain": [
       "    Gender  Age  Occupation  Sleep Duration  Physical Activity Level  \\\n",
       "0        1   27           9             6.1                       42   \n",
       "1        1   28           1             6.2                       60   \n",
       "2        1   28           1             6.2                       60   \n",
       "3        1   28           6             5.9                       30   \n",
       "4        1   28           6             5.9                       30   \n",
       "5        1   28           9             5.9                       30   \n",
       "6        1   29          10             6.3                       40   \n",
       "7        1   29           1             7.8                       75   \n",
       "8        1   29           1             7.8                       75   \n",
       "9        1   29           1             7.8                       75   \n",
       "10       1   29           1             6.1                       30   \n",
       "11       1   29           1             7.8                       75   \n",
       "12       1   29           1             6.1                       30   \n",
       "13       1   29           1             6.0                       30   \n",
       "14       1   29           1             6.0                       30   \n",
       "15       1   29           1             6.0                       30   \n",
       "16       0   29           5             6.5                       40   \n",
       "17       1   29           1             6.0                       30   \n",
       "18       0   29           5             6.5                       40   \n",
       "19       1   30           1             7.6                       75   \n",
       "\n",
       "    BMI Category  Heart Rate  Daily Steps  Sleep Disorder  BP_Systolic  \\\n",
       "0              3          77         4200               2          126   \n",
       "1              0          75        10000               2          125   \n",
       "2              0          75        10000               2          125   \n",
       "3              2          85         3000               1          140   \n",
       "4              2          85         3000               1          140   \n",
       "5              2          85         3000               0          140   \n",
       "6              2          82         3500               0          140   \n",
       "7              0          70         8000               2          120   \n",
       "8              0          70         8000               2          120   \n",
       "9              0          70         8000               2          120   \n",
       "10             0          70         8000               2          120   \n",
       "11             0          70         8000               2          120   \n",
       "12             0          70         8000               2          120   \n",
       "13             0          70         8000               2          120   \n",
       "14             0          70         8000               2          120   \n",
       "15             0          70         8000               2          120   \n",
       "16             1          80         4000               1          132   \n",
       "17             0          70         8000               1          120   \n",
       "18             1          80         4000               0          132   \n",
       "19             0          70         8000               2          120   \n",
       "\n",
       "    BP_Diastolic  Healthy Lifestyle  \n",
       "0             83                  0  \n",
       "1             80                  0  \n",
       "2             80                  0  \n",
       "3             90                  0  \n",
       "4             90                  0  \n",
       "5             90                  0  \n",
       "6             90                  0  \n",
       "7             80                  0  \n",
       "8             80                  0  \n",
       "9             80                  0  \n",
       "10            80                  0  \n",
       "11            80                  0  \n",
       "12            80                  0  \n",
       "13            80                  0  \n",
       "14            80                  0  \n",
       "15            80                  0  \n",
       "16            87                  0  \n",
       "17            80                  0  \n",
       "18            87                  0  \n",
       "19            80                  0  "
      ]
     },
     "execution_count": 210,
     "metadata": {},
     "output_type": "execute_result"
    }
   ],
   "source": [
    "df.head(20)"
   ]
  },
  {
   "cell_type": "code",
   "execution_count": 211,
   "id": "5b3e124c-a7c4-417f-8aa2-d8327f03411d",
   "metadata": {},
   "outputs": [
    {
     "data": {
      "image/png": "[encoded data removed]",
      "text/plain": [
       "<Figure size 1000x600 with 1 Axes>"
      ]
     },
     "metadata": {},
     "output_type": "display_data"
    }
   ],
   "source": [
    "try:\n",
    "    importances = model.feature_importances_\n",
    "    feature_names = x.columns\n",
    "    # If scaling changed ordering, still the same columns map to model input\n",
    "    plt.figure(figsize=(10,6))\n",
    "    plt.barh(feature_names, importances)\n",
    "    plt.xlabel('Feature Importance')\n",
    "    plt.title('Feature Importances for Healthy Lifestyle Prediction')\n",
    "    plt.tight_layout()\n",
    "    plt.show()\n",
    "except Exception as e:\n",
    "    print('Could not plot feature importances:', e)"
   ]
  },
  {
   "cell_type": "code",
   "execution_count": 212,
   "id": "546153e2-5aee-4491-abfc-dff0f16c92af",
   "metadata": {},
   "outputs": [
    {
     "data": {
      "text/plain": [
       "['/Users/anusrutamohanty/Desktop/LIFY. ML MODEL FOR ANALYSIS/encoders.pkl']"
      ]
     },
     "execution_count": 212,
     "metadata": {},
     "output_type": "execute_result"
    }
   ],
   "source": [
    "import joblib\n",
    "\n",
    "model_path = '/Users/anusrutamohanty/Desktop/LIFY. ML MODEL FOR ANALYSIS/model.pkl' \n",
    "scaler_path = '/Users/anusrutamohanty/Desktop/LIFY. ML MODEL FOR ANALYSIS/scaler.pkl' \n",
    "encoders_path = '/Users/anusrutamohanty/Desktop/LIFY. ML MODEL FOR ANALYSIS/encoders.pkl'  \n",
    "\n",
    "import os\n",
    "os.makedirs('/Users/anusrutamohanty/Desktop/LIFY. ML MODEL FOR ANALYSIS', exist_ok=True)\n",
    "\n",
    "joblib.dump(model, model_path)\n",
    "joblib.dump(scaler, scaler_path)\n",
    "joblib.dump(label_encoders, encoders_path)"
   ]
  },
  {
   "cell_type": "code",
   "execution_count": 213,
   "id": "d58dd9f4-708f-4cab-b8ad-20bbae53e6f4",
   "metadata": {},
   "outputs": [
    {
     "name": "stdout",
     "output_type": "stream",
     "text": [
      "Requirement already satisfied: onnxruntime in /opt/anaconda3/lib/python3.13/site-packages (1.23.2)\n",
      "Requirement already satisfied: onnxruntime-tools in /opt/anaconda3/lib/python3.13/site-packages (1.7.0)\n",
      "Requirement already satisfied: numpy in /opt/anaconda3/lib/python3.13/site-packages (2.1.3)\n",
      "Requirement already satisfied: coloredlogs in /opt/anaconda3/lib/python3.13/site-packages (from onnxruntime) (15.0.1)\n",
      "Requirement already satisfied: flatbuffers in /opt/anaconda3/lib/python3.13/site-packages (from onnxruntime) (25.9.23)\n",
      "Requirement already satisfied: packaging in /opt/anaconda3/lib/python3.13/site-packages (from onnxruntime) (24.2)\n",
      "Requirement already satisfied: protobuf in /opt/anaconda3/lib/python3.13/site-packages (from onnxruntime) (5.29.3)\n",
      "Requirement already satisfied: sympy in /opt/anaconda3/lib/python3.13/site-packages (from onnxruntime) (1.13.3)\n",
      "Requirement already satisfied: onnx in /opt/anaconda3/lib/python3.13/site-packages (from onnxruntime-tools) (1.19.1)\n",
      "Requirement already satisfied: psutil in /opt/anaconda3/lib/python3.13/site-packages (from onnxruntime-tools) (5.9.0)\n",
      "Requirement already satisfied: py-cpuinfo in /opt/anaconda3/lib/python3.13/site-packages (from onnxruntime-tools) (9.0.0)\n",
      "Requirement already satisfied: py3nvml in /opt/anaconda3/lib/python3.13/site-packages (from onnxruntime-tools) (0.2.7)\n",
      "Requirement already satisfied: humanfriendly>=9.1 in /opt/anaconda3/lib/python3.13/site-packages (from coloredlogs->onnxruntime) (10.0)\n",
      "Requirement already satisfied: typing_extensions>=4.7.1 in /opt/anaconda3/lib/python3.13/site-packages (from onnx->onnxruntime-tools) (4.12.2)\n",
      "Requirement already satisfied: ml_dtypes>=0.5.0 in /opt/anaconda3/lib/python3.13/site-packages (from onnx->onnxruntime-tools) (0.5.3)\n",
      "Requirement already satisfied: xmltodict in /opt/anaconda3/lib/python3.13/site-packages (from py3nvml->onnxruntime-tools) (1.0.2)\n",
      "Requirement already satisfied: mpmath<1.4,>=1.1.0 in /opt/anaconda3/lib/python3.13/site-packages (from sympy->onnxruntime) (1.3.0)\n",
      "Note: you may need to restart the kernel to use updated packages.\n"
     ]
    }
   ],
   "source": [
    "pip install onnxruntime onnxruntime-tools numpy"
   ]
  },
  {
   "cell_type": "code",
   "execution_count": 214,
   "id": "b219028a-817b-4f9b-a176-4ddea11fb182",
   "metadata": {},
   "outputs": [
    {
     "name": "stdout",
     "output_type": "stream",
     "text": [
      "Requirement already satisfied: skl2onnx in /opt/anaconda3/lib/python3.13/site-packages (1.19.1)\n",
      "Requirement already satisfied: onnxmltools in /opt/anaconda3/lib/python3.13/site-packages (1.14.0)\n",
      "Requirement already satisfied: lightgbm in /opt/anaconda3/lib/python3.13/site-packages (4.6.0)\n",
      "Requirement already satisfied: scikit-learn in /opt/anaconda3/lib/python3.13/site-packages (1.6.0)\n",
      "Requirement already satisfied: onnx>=1.2.1 in /opt/anaconda3/lib/python3.13/site-packages (from skl2onnx) (1.19.1)\n",
      "Requirement already satisfied: numpy in /opt/anaconda3/lib/python3.13/site-packages (from onnxmltools) (2.1.3)\n",
      "Requirement already satisfied: scipy in /opt/anaconda3/lib/python3.13/site-packages (from lightgbm) (1.15.3)\n",
      "Requirement already satisfied: joblib>=1.2.0 in /opt/anaconda3/lib/python3.13/site-packages (from scikit-learn) (1.4.2)\n",
      "Requirement already satisfied: threadpoolctl>=3.1.0 in /opt/anaconda3/lib/python3.13/site-packages (from scikit-learn) (3.5.0)\n",
      "Requirement already satisfied: protobuf>=4.25.1 in /opt/anaconda3/lib/python3.13/site-packages (from onnx>=1.2.1->skl2onnx) (5.29.3)\n",
      "Requirement already satisfied: typing_extensions>=4.7.1 in /opt/anaconda3/lib/python3.13/site-packages (from onnx>=1.2.1->skl2onnx) (4.12.2)\n",
      "Requirement already satisfied: ml_dtypes>=0.5.0 in /opt/anaconda3/lib/python3.13/site-packages (from onnx>=1.2.1->skl2onnx) (0.5.3)\n",
      "Note: you may need to restart the kernel to use updated packages.\n"
     ]
    }
   ],
   "source": [
    "pip install skl2onnx onnxmltools lightgbm scikit-learn"
   ]
  },
  {
   "cell_type": "code",
   "execution_count": 215,
   "id": "e15a2966-8343-4368-8094-e1af8ee32ad6",
   "metadata": {},
   "outputs": [],
   "source": [
    "import joblib\n",
    "from skl2onnx import convert_sklearn\n",
    "from skl2onnx.common.data_types import (\n",
    "    FloatTensorType, Int64TensorType, StringTensorType\n",
    ")"
   ]
  },
  {
   "cell_type": "code",
   "execution_count": 216,
   "id": "d4ebc3c1-9774-458b-91d0-ba39bc3609cc",
   "metadata": {},
   "outputs": [
    {
     "name": "stdout",
     "output_type": "stream",
     "text": [
      "Saved model -> /Users/anusrutamohanty/Desktop/LIFY. ML MODEL FOR ANALYSIS/schedule_recommender_lgb.joblib\n"
     ]
    }
   ],
   "source": [
    "joblib.dump(model, \"/Users/anusrutamohanty/Desktop/LIFY. ML MODEL FOR ANALYSIS/schedule_recommender_lgb.joblib\")\n",
    "print(\"Saved model -> /Users/anusrutamohanty/Desktop/LIFY. ML MODEL FOR ANALYSIS/schedule_recommender_lgb.joblib\")"
   ]
  },
  {
   "cell_type": "code",
   "execution_count": 218,
   "id": "9a8f2c8c-0075-427b-baa1-3181a8a559fe",
   "metadata": {},
   "outputs": [],
   "source": [
    "import joblib\n",
    "\n",
    "model = joblib.load(\"/Users/anusrutamohanty/Desktop/LIFY. ML MODEL FOR ANALYSIS/model.pkl\")\n",
    "n_features = 5\n",
    "initial_type = [('float_input', FloatTensorType([None, n_features]))]\n",
    "onx = convert_sklearn(model, initial_types=initial_type)\n",
    "with open(\"model.onnx\", \"wb\") as f:\n",
    "    f.write(onx.SerializeToString())\n"
   ]
  },
  {
   "cell_type": "code",
   "execution_count": null,
   "id": "8eee3ce3-0e76-4f3b-b911-cbae1fca8905",
   "metadata": {},
   "outputs": [],
   "source": []
  }
 ],
 "metadata": {
  "kernelspec": {
   "display_name": "Python [conda env:base] *",
   "language": "python",
   "name": "conda-base-py"
  },
  "language_info": {
   "codemirror_mode": {
    "name": "ipython",
    "version": 3
   },
   "file_extension": ".py",
   "mimetype": "text/x-python",
   "name": "python",
   "nbconvert_exporter": "python",
   "pygments_lexer": "ipython3",
   "version": "3.13.5"
  }
 },
 "nbformat": 4,
 "nbformat_minor": 5
}
